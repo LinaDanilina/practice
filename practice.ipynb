{
  "nbformat": 4,
  "nbformat_minor": 0,
  "metadata": {
    "colab": {
      "name": "practice.ipynb",
      "provenance": [],
      "collapsed_sections": [],
      "authorship_tag": "ABX9TyN+1fGr7CZaKdoYtI2KWCV4",
      "include_colab_link": true
    },
    "kernelspec": {
      "name": "python3",
      "display_name": "Python 3"
    }
  },
  "cells": [
    {
      "cell_type": "markdown",
      "metadata": {
        "id": "view-in-github",
        "colab_type": "text"
      },
      "source": [
        "<a href=\"https://colab.research.google.com/github/LinaDanilina/practice/blob/master/practice.ipynb\" target=\"_parent\"><img src=\"https://colab.research.google.com/assets/colab-badge.svg\" alt=\"Open In Colab\"/></a>"
      ]
    },
    {
      "cell_type": "code",
      "metadata": {
        "id": "VwJ43pyPnQ8c",
        "colab_type": "code",
        "outputId": "49036c86-20a4-4c5c-9903-21f6372a945a",
        "colab": {
          "base_uri": "https://localhost:8080/",
          "height": 121
        }
      },
      "source": [
        "from google.colab import drive\n",
        "drive.mount('/content/drive/')"
      ],
      "execution_count": 1,
      "outputs": [
        {
          "output_type": "stream",
          "text": [
            "Go to this URL in a browser: https://accounts.google.com/o/oauth2/auth?client_id=947318989803-6bn6qk8qdgf4n4g3pfee6491hc0brc4i.apps.googleusercontent.com&redirect_uri=urn%3aietf%3awg%3aoauth%3a2.0%3aoob&response_type=code&scope=email%20https%3a%2f%2fwww.googleapis.com%2fauth%2fdocs.test%20https%3a%2f%2fwww.googleapis.com%2fauth%2fdrive%20https%3a%2f%2fwww.googleapis.com%2fauth%2fdrive.photos.readonly%20https%3a%2f%2fwww.googleapis.com%2fauth%2fpeopleapi.readonly\n",
            "\n",
            "Enter your authorization code:\n",
            "··········\n",
            "Mounted at /content/drive/\n"
          ],
          "name": "stdout"
        }
      ]
    },
    {
      "cell_type": "code",
      "metadata": {
        "id": "RPmGDnD3nfF-",
        "colab_type": "code",
        "outputId": "2ed298e6-e662-4c19-f080-b0ddf64187c9",
        "colab": {
          "base_uri": "https://localhost:8080/",
          "height": 34
        }
      },
      "source": [
        "%cd drive/My Drive/instacart_2017_05_01"
      ],
      "execution_count": 2,
      "outputs": [
        {
          "output_type": "stream",
          "text": [
            "/content/drive/My Drive/instacart_2017_05_01\n"
          ],
          "name": "stdout"
        }
      ]
    },
    {
      "cell_type": "code",
      "metadata": {
        "id": "_WrqtWRanr9j",
        "colab_type": "code",
        "colab": {}
      },
      "source": [
        "import pandas as pd\n",
        "import operator\n",
        "from collections import OrderedDict"
      ],
      "execution_count": 0,
      "outputs": []
    },
    {
      "cell_type": "code",
      "metadata": {
        "id": "L6g8X3C5vmBY",
        "colab_type": "code",
        "colab": {}
      },
      "source": [
        "df=pd.read_csv('data.csv',delimiter=';')"
      ],
      "execution_count": 0,
      "outputs": []
    },
    {
      "cell_type": "code",
      "metadata": {
        "id": "-yj9eXlwBb_6",
        "colab_type": "code",
        "outputId": "682e1ad8-4038-481d-b722-cfba4b206c1a",
        "colab": {
          "base_uri": "https://localhost:8080/",
          "height": 373
        }
      },
      "source": [
        "df"
      ],
      "execution_count": 5,
      "outputs": [
        {
          "output_type": "execute_result",
          "data": {
            "text/html": [
              "<div>\n",
              "<style scoped>\n",
              "    .dataframe tbody tr th:only-of-type {\n",
              "        vertical-align: middle;\n",
              "    }\n",
              "\n",
              "    .dataframe tbody tr th {\n",
              "        vertical-align: top;\n",
              "    }\n",
              "\n",
              "    .dataframe thead th {\n",
              "        text-align: right;\n",
              "    }\n",
              "</style>\n",
              "<table border=\"1\" class=\"dataframe\">\n",
              "  <thead>\n",
              "    <tr style=\"text-align: right;\">\n",
              "      <th></th>\n",
              "      <th>Session id</th>\n",
              "      <th>Item id</th>\n",
              "      <th>time</th>\n",
              "    </tr>\n",
              "  </thead>\n",
              "  <tbody>\n",
              "    <tr>\n",
              "      <th>0</th>\n",
              "      <td>1</td>\n",
              "      <td>a</td>\n",
              "      <td>0</td>\n",
              "    </tr>\n",
              "    <tr>\n",
              "      <th>1</th>\n",
              "      <td>1</td>\n",
              "      <td>b</td>\n",
              "      <td>1</td>\n",
              "    </tr>\n",
              "    <tr>\n",
              "      <th>2</th>\n",
              "      <td>1</td>\n",
              "      <td>c</td>\n",
              "      <td>2</td>\n",
              "    </tr>\n",
              "    <tr>\n",
              "      <th>3</th>\n",
              "      <td>1</td>\n",
              "      <td>f</td>\n",
              "      <td>3</td>\n",
              "    </tr>\n",
              "    <tr>\n",
              "      <th>4</th>\n",
              "      <td>2</td>\n",
              "      <td>c</td>\n",
              "      <td>4</td>\n",
              "    </tr>\n",
              "    <tr>\n",
              "      <th>5</th>\n",
              "      <td>2</td>\n",
              "      <td>d</td>\n",
              "      <td>5</td>\n",
              "    </tr>\n",
              "    <tr>\n",
              "      <th>6</th>\n",
              "      <td>3</td>\n",
              "      <td>b</td>\n",
              "      <td>6</td>\n",
              "    </tr>\n",
              "    <tr>\n",
              "      <th>7</th>\n",
              "      <td>3</td>\n",
              "      <td>c</td>\n",
              "      <td>7</td>\n",
              "    </tr>\n",
              "    <tr>\n",
              "      <th>8</th>\n",
              "      <td>3</td>\n",
              "      <td>d</td>\n",
              "      <td>8</td>\n",
              "    </tr>\n",
              "    <tr>\n",
              "      <th>9</th>\n",
              "      <td>4</td>\n",
              "      <td>c</td>\n",
              "      <td>9</td>\n",
              "    </tr>\n",
              "    <tr>\n",
              "      <th>10</th>\n",
              "      <td>4</td>\n",
              "      <td>e</td>\n",
              "      <td>10</td>\n",
              "    </tr>\n",
              "  </tbody>\n",
              "</table>\n",
              "</div>"
            ],
            "text/plain": [
              "    Session id Item id  time\n",
              "0            1       a     0\n",
              "1            1       b     1\n",
              "2            1       c     2\n",
              "3            1       f     3\n",
              "4            2       c     4\n",
              "5            2       d     5\n",
              "6            3       b     6\n",
              "7            3       c     7\n",
              "8            3       d     8\n",
              "9            4       c     9\n",
              "10           4       e    10"
            ]
          },
          "metadata": {
            "tags": []
          },
          "execution_count": 5
        }
      ]
    },
    {
      "cell_type": "code",
      "metadata": {
        "id": "VFNAnNyzBeOk",
        "colab_type": "code",
        "colab": {}
      },
      "source": [
        "groups=df.groupby('Session id')"
      ],
      "execution_count": 0,
      "outputs": []
    },
    {
      "cell_type": "code",
      "metadata": {
        "id": "TLegAgwr7YaZ",
        "colab_type": "code",
        "outputId": "a8ba3164-6a96-44cb-bcc3-d262f9523f3f",
        "colab": {
          "base_uri": "https://localhost:8080/",
          "height": 50
        }
      },
      "source": [
        "seq=[]\n",
        "names=[]\n",
        "for name, group in groups:\n",
        "  mydict = dict(zip(group['Item id'], group['time']))\n",
        "  names.append(name)\n",
        "  seq.append(mydict)\n",
        "print(seq)\n",
        "print(names)"
      ],
      "execution_count": 7,
      "outputs": [
        {
          "output_type": "stream",
          "text": [
            "[{'a': 0, 'b': 1, 'c': 2, 'f': 3}, {'c': 4, 'd': 5}, {'b': 6, 'c': 7, 'd': 8}, {'c': 9, 'e': 10}]\n",
            "[1, 2, 3, 4]\n"
          ],
          "name": "stdout"
        }
      ]
    },
    {
      "cell_type": "code",
      "metadata": {
        "id": "XMzc7tBpuBfx",
        "colab_type": "code",
        "colab": {}
      },
      "source": [
        "for name, group in groups:\n",
        "  d = {'Session id': names, '(Item id, interaction time)': seq}\n",
        "map_s2i=pd.DataFrame(d)\n"
      ],
      "execution_count": 0,
      "outputs": []
    },
    {
      "cell_type": "code",
      "metadata": {
        "id": "xeZPG_a49tjI",
        "colab_type": "code",
        "outputId": "1fe70b1e-33eb-4c09-c53a-f98201b5cac8",
        "colab": {
          "base_uri": "https://localhost:8080/",
          "height": 166
        }
      },
      "source": [
        "map_s2i"
      ],
      "execution_count": 9,
      "outputs": [
        {
          "output_type": "execute_result",
          "data": {
            "text/html": [
              "<div>\n",
              "<style scoped>\n",
              "    .dataframe tbody tr th:only-of-type {\n",
              "        vertical-align: middle;\n",
              "    }\n",
              "\n",
              "    .dataframe tbody tr th {\n",
              "        vertical-align: top;\n",
              "    }\n",
              "\n",
              "    .dataframe thead th {\n",
              "        text-align: right;\n",
              "    }\n",
              "</style>\n",
              "<table border=\"1\" class=\"dataframe\">\n",
              "  <thead>\n",
              "    <tr style=\"text-align: right;\">\n",
              "      <th></th>\n",
              "      <th>Session id</th>\n",
              "      <th>(Item id, interaction time)</th>\n",
              "    </tr>\n",
              "  </thead>\n",
              "  <tbody>\n",
              "    <tr>\n",
              "      <th>0</th>\n",
              "      <td>1</td>\n",
              "      <td>{'a': 0, 'b': 1, 'c': 2, 'f': 3}</td>\n",
              "    </tr>\n",
              "    <tr>\n",
              "      <th>1</th>\n",
              "      <td>2</td>\n",
              "      <td>{'c': 4, 'd': 5}</td>\n",
              "    </tr>\n",
              "    <tr>\n",
              "      <th>2</th>\n",
              "      <td>3</td>\n",
              "      <td>{'b': 6, 'c': 7, 'd': 8}</td>\n",
              "    </tr>\n",
              "    <tr>\n",
              "      <th>3</th>\n",
              "      <td>4</td>\n",
              "      <td>{'c': 9, 'e': 10}</td>\n",
              "    </tr>\n",
              "  </tbody>\n",
              "</table>\n",
              "</div>"
            ],
            "text/plain": [
              "   Session id       (Item id, interaction time)\n",
              "0           1  {'a': 0, 'b': 1, 'c': 2, 'f': 3}\n",
              "1           2                  {'c': 4, 'd': 5}\n",
              "2           3          {'b': 6, 'c': 7, 'd': 8}\n",
              "3           4                 {'c': 9, 'e': 10}"
            ]
          },
          "metadata": {
            "tags": []
          },
          "execution_count": 9
        }
      ]
    },
    {
      "cell_type": "code",
      "metadata": {
        "id": "T-tj4EutDFgD",
        "colab_type": "code",
        "outputId": "9990245c-9131-4f00-df0e-1b652eacff29",
        "colab": {
          "base_uri": "https://localhost:8080/",
          "height": 50
        }
      },
      "source": [
        "grouped=df.groupby('Item id')\n",
        "seq_=[]\n",
        "names_=[]\n",
        "for name, group in grouped:\n",
        "  mydict = dict(zip(group['Session id'], group['time']))\n",
        "  names_.append(name)\n",
        "  seq_.append(mydict)\n",
        "print(seq_)\n",
        "print(names_)"
      ],
      "execution_count": 10,
      "outputs": [
        {
          "output_type": "stream",
          "text": [
            "[{1: 0}, {1: 1, 3: 6}, {1: 2, 2: 4, 3: 7, 4: 9}, {2: 5, 3: 8}, {4: 10}, {1: 3}]\n",
            "['a', 'b', 'c', 'd', 'e', 'f']\n"
          ],
          "name": "stdout"
        }
      ]
    },
    {
      "cell_type": "code",
      "metadata": {
        "id": "UaO2abEPttQb",
        "colab_type": "code",
        "colab": {}
      },
      "source": [
        "for name, group in groups:\n",
        "  d = {'Item id': names_, '(Session id, interaction time)': seq_}\n",
        "map_i2s=pd.DataFrame(d)"
      ],
      "execution_count": 0,
      "outputs": []
    },
    {
      "cell_type": "code",
      "metadata": {
        "id": "igD40UVC5x0d",
        "colab_type": "code",
        "outputId": "0bbe77c3-3a5b-4e14-ac4e-333af13d8abb",
        "colab": {
          "base_uri": "https://localhost:8080/",
          "height": 225
        }
      },
      "source": [
        "map_i2s"
      ],
      "execution_count": 12,
      "outputs": [
        {
          "output_type": "execute_result",
          "data": {
            "text/html": [
              "<div>\n",
              "<style scoped>\n",
              "    .dataframe tbody tr th:only-of-type {\n",
              "        vertical-align: middle;\n",
              "    }\n",
              "\n",
              "    .dataframe tbody tr th {\n",
              "        vertical-align: top;\n",
              "    }\n",
              "\n",
              "    .dataframe thead th {\n",
              "        text-align: right;\n",
              "    }\n",
              "</style>\n",
              "<table border=\"1\" class=\"dataframe\">\n",
              "  <thead>\n",
              "    <tr style=\"text-align: right;\">\n",
              "      <th></th>\n",
              "      <th>Item id</th>\n",
              "      <th>(Session id, interaction time)</th>\n",
              "    </tr>\n",
              "  </thead>\n",
              "  <tbody>\n",
              "    <tr>\n",
              "      <th>0</th>\n",
              "      <td>a</td>\n",
              "      <td>{1: 0}</td>\n",
              "    </tr>\n",
              "    <tr>\n",
              "      <th>1</th>\n",
              "      <td>b</td>\n",
              "      <td>{1: 1, 3: 6}</td>\n",
              "    </tr>\n",
              "    <tr>\n",
              "      <th>2</th>\n",
              "      <td>c</td>\n",
              "      <td>{1: 2, 2: 4, 3: 7, 4: 9}</td>\n",
              "    </tr>\n",
              "    <tr>\n",
              "      <th>3</th>\n",
              "      <td>d</td>\n",
              "      <td>{2: 5, 3: 8}</td>\n",
              "    </tr>\n",
              "    <tr>\n",
              "      <th>4</th>\n",
              "      <td>e</td>\n",
              "      <td>{4: 10}</td>\n",
              "    </tr>\n",
              "    <tr>\n",
              "      <th>5</th>\n",
              "      <td>f</td>\n",
              "      <td>{1: 3}</td>\n",
              "    </tr>\n",
              "  </tbody>\n",
              "</table>\n",
              "</div>"
            ],
            "text/plain": [
              "  Item id (Session id, interaction time)\n",
              "0       a                         {1: 0}\n",
              "1       b                   {1: 1, 3: 6}\n",
              "2       c       {1: 2, 2: 4, 3: 7, 4: 9}\n",
              "3       d                   {2: 5, 3: 8}\n",
              "4       e                        {4: 10}\n",
              "5       f                         {1: 3}"
            ]
          },
          "metadata": {
            "tags": []
          },
          "execution_count": 12
        }
      ]
    },
    {
      "cell_type": "code",
      "metadata": {
        "id": "wHrirU3j_O1r",
        "colab_type": "code",
        "outputId": "99bcb9d9-9860-481e-8410-f706514c0804",
        "colab": {
          "base_uri": "https://localhost:8080/",
          "height": 50
        }
      },
      "source": [
        "curr_ses={12:['d','a']}\n",
        "for key in curr_ses:\n",
        "  id_curr_ses=key\n",
        "\n",
        "rec=[]\n",
        "most_recent_sessions = {}\n",
        "relevant_sessions=[]\n",
        "#finding relevant sessions\n",
        "\n",
        "for key in curr_ses:\n",
        "  for item in curr_ses[key]:\n",
        "    relevant_sessions.append(map_i2s[map_i2s['Item id'].str.contains(item)])\n",
        "#selecting the most recent sessions\n",
        "for ses in range(len(relevant_sessions)):\n",
        "  max_time=0\n",
        "  max_k=0\n",
        "  for dic in relevant_sessions[ses]['(Session id, interaction time)']:\n",
        "    for key in dic:\n",
        "      if dic[key]>=max_time:\n",
        "        max_time=dic[key]\n",
        "        max_k=key\n",
        "  most_recent_sessions[max_k]=max_time\n",
        "  k_recent=len(most_recent_sessions)\n",
        "print(most_recent_sessions)\n",
        "print(k_recent)"
      ],
      "execution_count": 13,
      "outputs": [
        {
          "output_type": "stream",
          "text": [
            "{3: 8, 1: 0}\n",
            "2\n"
          ],
          "name": "stdout"
        }
      ]
    },
    {
      "cell_type": "code",
      "metadata": {
        "id": "xa4o68rYfkow",
        "colab_type": "code",
        "colab": {}
      },
      "source": [
        "def sim(x,j):\n",
        "  return 1"
      ],
      "execution_count": 0,
      "outputs": []
    },
    {
      "cell_type": "code",
      "metadata": {
        "id": "XjPvzLCaT0fH",
        "colab_type": "code",
        "colab": {
          "base_uri": "https://localhost:8080/",
          "height": 34
        },
        "outputId": "7ba17d4c-7b67-4b90-916c-155f8dfa375f"
      },
      "source": [
        "k_top=2 \n",
        "NN={}\n",
        "for key in most_recent_sessions:\n",
        "  max_sim=0\n",
        "  if sim(key, id_curr_ses)>max_sim:\n",
        "    max_sim=sim(key, id_curr_ses)\n",
        "    if k_top!=len(NN):   #chosing k_top the most similar sessions\n",
        "      tmp=map_s2i[map_s2i['Session id']==key]['(Item id, interaction time)']\n",
        "      for t in tmp:\n",
        "        NN[key]=t\n",
        "    \n",
        "print(NN)\n",
        "\n",
        " "
      ],
      "execution_count": 20,
      "outputs": [
        {
          "output_type": "stream",
          "text": [
            "{3: {'b': 6, 'c': 7, 'd': 8}, 1: {'a': 0, 'b': 1, 'c': 2, 'f': 3}}\n"
          ],
          "name": "stdout"
        }
      ]
    },
    {
      "cell_type": "code",
      "metadata": {
        "id": "LDLGFh8nynaj",
        "colab_type": "code",
        "colab": {
          "base_uri": "https://localhost:8080/",
          "height": 50
        },
        "outputId": "aabddcb8-f4a6-4680-a812-854df12a961c"
      },
      "source": [
        "relevant_items=[]\n",
        "NN_id=[]\n",
        "for key in NN:\n",
        "  NN_id.append(key)\n",
        "  for item in NN[key]:\n",
        "    relevant_items.append(item)\n",
        "print(relevant_items)  \n",
        "print(NN_id)"
      ],
      "execution_count": 97,
      "outputs": [
        {
          "output_type": "stream",
          "text": [
            "['b', 'c', 'd', 'a', 'b', 'c', 'f']\n",
            "[3, 1]\n"
          ],
          "name": "stdout"
        }
      ]
    },
    {
      "cell_type": "code",
      "metadata": {
        "id": "31JZcZyW3Cgd",
        "colab_type": "code",
        "colab": {
          "base_uri": "https://localhost:8080/",
          "height": 34
        },
        "outputId": "99d9c60d-f782-43d2-caec-7621222ec00d"
      },
      "source": [
        "it_sc={}\n",
        "for item in relevant_items:\n",
        "  score=0\n",
        "  for ids in NN_id:\n",
        "    for el in df[(df['Session id']==ids)]['Item id']:\n",
        "      if item==el:\n",
        "        score+=sim(id_curr_ses,ids)*1\n",
        "      else:\n",
        "        score+=sim(id_curr_ses,ids)*0\n",
        "  it_sc[item]=score\n",
        "print(it_sc)"
      ],
      "execution_count": 103,
      "outputs": [
        {
          "output_type": "stream",
          "text": [
            "{'b': 2, 'c': 2, 'd': 1, 'a': 1, 'f': 1}\n"
          ],
          "name": "stdout"
        }
      ]
    },
    {
      "cell_type": "code",
      "metadata": {
        "id": "BPUXh-xa7tF7",
        "colab_type": "code",
        "colab": {}
      },
      "source": [
        "N=2 #recommend N nearest items\n",
        "sorted_pairs = sorted(((k, v) for k, v in it_sc.items()),\n",
        "                     key=lambda pair: pair[1], reverse=True)\n",
        "output = OrderedDict()\n",
        "for k, v in sorted_pairs:\n",
        "    if k not in output:\n",
        "        output[k] = v\n",
        "        if len(output) == N:\n",
        "            break\n"
      ],
      "execution_count": 0,
      "outputs": []
    },
    {
      "cell_type": "code",
      "metadata": {
        "id": "6tPsyhFG9LOz",
        "colab_type": "code",
        "colab": {
          "base_uri": "https://localhost:8080/",
          "height": 67
        },
        "outputId": "af4d2052-5f2b-417f-8b8c-5f06d422fe13"
      },
      "source": [
        "print('Recommended items are:')\n",
        "for item in output:\n",
        "  print(item)\n"
      ],
      "execution_count": 130,
      "outputs": [
        {
          "output_type": "stream",
          "text": [
            "Recommended items are:\n",
            "b\n",
            "c\n"
          ],
          "name": "stdout"
        }
      ]
    },
    {
      "cell_type": "code",
      "metadata": {
        "id": "SRbC4iLZ9QcI",
        "colab_type": "code",
        "colab": {}
      },
      "source": [
        ""
      ],
      "execution_count": 0,
      "outputs": []
    }
  ]
}