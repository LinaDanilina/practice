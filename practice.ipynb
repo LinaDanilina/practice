{
  "nbformat": 4,
  "nbformat_minor": 0,
  "metadata": {
    "colab": {
      "name": "practice.ipynb",
      "provenance": [],
      "authorship_tag": "ABX9TyMmXMPz9CS7jIGZ3Ubdmf5f",
      "include_colab_link": true
    },
    "kernelspec": {
      "name": "python3",
      "display_name": "Python 3"
    }
  },
  "cells": [
    {
      "cell_type": "markdown",
      "metadata": {
        "id": "view-in-github",
        "colab_type": "text"
      },
      "source": [
        "<a href=\"https://colab.research.google.com/github/LinaDanilina/practice/blob/master/practice.ipynb\" target=\"_parent\"><img src=\"https://colab.research.google.com/assets/colab-badge.svg\" alt=\"Open In Colab\"/></a>"
      ]
    },
    {
      "cell_type": "code",
      "metadata": {
        "id": "FhYr2EqfS5yG",
        "colab_type": "code",
        "colab": {
          "base_uri": "https://localhost:8080/",
          "height": 138
        },
        "outputId": "46db8d96-1606-4328-e06f-038d991fe03d"
      },
      "source": [
        "from google.colab import drive\n",
        "drive.mount('/content/drive/')\n",
        "%cd drive/My Drive/instacart_2017_05_01"
      ],
      "execution_count": 1,
      "outputs": [
        {
          "output_type": "stream",
          "text": [
            "Go to this URL in a browser: https://accounts.google.com/o/oauth2/auth?client_id=947318989803-6bn6qk8qdgf4n4g3pfee6491hc0brc4i.apps.googleusercontent.com&redirect_uri=urn%3aietf%3awg%3aoauth%3a2.0%3aoob&response_type=code&scope=email%20https%3a%2f%2fwww.googleapis.com%2fauth%2fdocs.test%20https%3a%2f%2fwww.googleapis.com%2fauth%2fdrive%20https%3a%2f%2fwww.googleapis.com%2fauth%2fdrive.photos.readonly%20https%3a%2f%2fwww.googleapis.com%2fauth%2fpeopleapi.readonly\n",
            "\n",
            "Enter your authorization code:\n",
            "··········\n",
            "Mounted at /content/drive/\n",
            "/content/drive/My Drive/instacart_2017_05_01\n"
          ],
          "name": "stdout"
        }
      ]
    },
    {
      "cell_type": "code",
      "metadata": {
        "id": "RQdfXwZBS8so",
        "colab_type": "code",
        "colab": {}
      },
      "source": [
        "import pandas as pd\n",
        "import operator\n",
        "from collections import OrderedDict"
      ],
      "execution_count": 0,
      "outputs": []
    },
    {
      "cell_type": "code",
      "metadata": {
        "id": "Nr1MjK7fTEfn",
        "colab_type": "code",
        "colab": {}
      },
      "source": [
        "class KNN:\n",
        "\n",
        "  def __init__(self, df,k_top,N):\n",
        "    self.df = df\n",
        "    self.k_top=k_top #chosing k_top the most similar sessions\n",
        "    self.N=N #recommend N nearest items\n",
        "  \n",
        "  def sim(self,x,j):\n",
        "    return 1\n",
        "\n",
        "  def preprocess(self):\n",
        "    groups=self.df.groupby('Session id')\n",
        "    seq=[]\n",
        "    names=[]\n",
        "    for name, group in groups:\n",
        "      mydict = dict(zip(group['Item id'], group['time']))\n",
        "      names.append(name)\n",
        "      seq.append(mydict)\n",
        "    for name, group in groups:\n",
        "      d = {'Session id': names, '(Item id, interaction time)': seq}\n",
        "    map_s2i=pd.DataFrame(d)\n",
        "    grouped=df.groupby('Item id')\n",
        "    seq_=[]\n",
        "    names_=[]\n",
        "    for name, group in grouped:\n",
        "      mydict = dict(zip(group['Session id'], group['time']))\n",
        "      names_.append(name)\n",
        "      seq_.append(mydict)\n",
        "    for name, group in groups:\n",
        "      d = {'Item id': names_, '(Session id, interaction time)': seq_}\n",
        "    map_i2s=pd.DataFrame(d)\n",
        "    return map_i2s, map_s2i\n",
        "\n",
        "  def predict(self):\n",
        "    map_i2s, map_s2i=self.preprocess()\n",
        "    curr_ses={12:['d','a']}\n",
        "    for key in curr_ses:\n",
        "      id_curr_ses=key\n",
        "    rec=[]\n",
        "    most_recent_sessions = {}\n",
        "    relevant_sessions=[]\n",
        "    #finding relevant sessions\n",
        "    for key in curr_ses:\n",
        "      for item in curr_ses[key]:\n",
        "        relevant_sessions.append(map_i2s[map_i2s['Item id'].str.contains(item)])\n",
        "    #selecting the most recent sessions\n",
        "    for ses in range(len(relevant_sessions)):\n",
        "      max_time=0\n",
        "      max_k=0\n",
        "      for dic in relevant_sessions[ses]['(Session id, interaction time)']:\n",
        "        for key in dic:\n",
        "          if dic[key]>=max_time:\n",
        "            max_time=dic[key]\n",
        "            max_k=key\n",
        "      most_recent_sessions[max_k]=max_time\n",
        "      k_recent=len(most_recent_sessions)\n",
        "    NN={}\n",
        "    for key in most_recent_sessions:\n",
        "      max_sim=0\n",
        "      if self.sim(key, id_curr_ses)>max_sim:\n",
        "        max_sim=self.sim(key, id_curr_ses)\n",
        "        if self.k_top!=len(NN):   \n",
        "          tmp=map_s2i[map_s2i['Session id']==key]['(Item id, interaction time)']\n",
        "          for t in tmp:\n",
        "            NN[key]=t\n",
        "        \n",
        "    relevant_items=[]\n",
        "    NN_id=[]\n",
        "    for key in NN:\n",
        "      NN_id.append(key)\n",
        "      for item in NN[key]:\n",
        "        relevant_items.append(item)\n",
        "    it_sc={}\n",
        "    for item in relevant_items:\n",
        "      score=0\n",
        "      for ids in NN_id:\n",
        "        for el in self.df[(self.df['Session id']==ids)]['Item id']:\n",
        "          if item==el:\n",
        "            score+=self.sim(id_curr_ses,ids)*1\n",
        "          else:\n",
        "            score+=self.sim(id_curr_ses,ids)*0\n",
        "      it_sc[item]=score\n",
        "    \n",
        "    sorted_pairs = sorted(((k, v) for k, v in it_sc.items()),\n",
        "                        key=lambda pair: pair[1], reverse=True)\n",
        "    output = OrderedDict()\n",
        "    for k, v in sorted_pairs:\n",
        "        if k not in output:\n",
        "            output[k] = v\n",
        "            if len(output) == self.N:\n",
        "                break\n",
        "    print('Recommended items are:')\n",
        "    for item in output:\n",
        "      print(item)"
      ],
      "execution_count": 0,
      "outputs": []
    },
    {
      "cell_type": "code",
      "metadata": {
        "id": "DGQGWq2MX6QW",
        "colab_type": "code",
        "colab": {}
      },
      "source": [
        "df=pd.read_csv('data.csv',delimiter=';')\n",
        "k_top=2\n",
        "N=2\n",
        "data=KNN(df,k_top,N)"
      ],
      "execution_count": 0,
      "outputs": []
    },
    {
      "cell_type": "code",
      "metadata": {
        "id": "AGYT7EZI-Kkf",
        "colab_type": "code",
        "colab": {
          "base_uri": "https://localhost:8080/",
          "height": 67
        },
        "outputId": "4a5b7bca-85f5-4680-b1f9-a2c41c1f043e"
      },
      "source": [
        "KNN.predict(data)"
      ],
      "execution_count": 95,
      "outputs": [
        {
          "output_type": "stream",
          "text": [
            "Recommended items are:\n",
            "b\n",
            "c\n"
          ],
          "name": "stdout"
        }
      ]
    },
    {
      "cell_type": "code",
      "metadata": {
        "id": "sGlyEoIn_ABX",
        "colab_type": "code",
        "colab": {}
      },
      "source": [
        ""
      ],
      "execution_count": 0,
      "outputs": []
    }
  ]
}